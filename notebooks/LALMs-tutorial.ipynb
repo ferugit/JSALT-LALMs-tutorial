{
 "cells": [
  {
   "cell_type": "code",
   "execution_count": null,
   "id": "d7ce8ecb-8403-4fb3-8e0c-f9cf3ed7eef7",
   "metadata": {},
   "outputs": [],
   "source": [
    "# Local execution\n",
    "import os\n",
    "import sys\n",
    "\n",
    "working_dir = os.getcwd()\n",
    "sys.path.insert(1, working_dir.replace(working_dir.split('/')[-1], ''))\n",
    "print(sys.path)"
   ]
  },
  {
   "cell_type": "code",
   "execution_count": null,
   "id": "7b3caf8f-7602-4159-b033-0dfe072abd9d",
   "metadata": {},
   "outputs": [],
   "source": [
    "# Remote\n",
    "#!git clone https://github.com/ferugit/JSALT-LALMs-tutorial.git\n",
    "#!cd JSALT-LALMs-tutorial"
   ]
  },
  {
   "cell_type": "code",
   "execution_count": null,
   "id": "3c58aa91-aef6-47ef-902a-af1b1145a68d",
   "metadata": {},
   "outputs": [],
   "source": [
    "!pip install -r ../requirements.txt"
   ]
  },
  {
   "cell_type": "code",
   "execution_count": null,
   "id": "7dbbeff3-db07-4937-aa39-2132a0129ce8",
   "metadata": {},
   "outputs": [],
   "source": [
    "# Download Qwen2.5-0.5B model\n",
    "#!../download_hf_model.sh"
   ]
  },
  {
   "cell_type": "code",
   "execution_count": null,
   "id": "375e7be6-ddf5-48cd-8c96-4f5b4e358965",
   "metadata": {},
   "outputs": [],
   "source": [
    "# Download AF2 model: CLAP encoder, Audio Transformer and XATTN\n",
    "#!./download_af2.sh \"YOUR_TOKEN_HERE\""
   ]
  },
  {
   "cell_type": "markdown",
   "id": "bfcf4bc9-01e0-49e9-ab33-304ea7b73bcf",
   "metadata": {},
   "source": [
    "# CLAP: Audio Encoder\n",
    "\n",
    "![CLAP Architecture](../assets/audioclip-arch.png)"
   ]
  },
  {
   "cell_type": "code",
   "execution_count": null,
   "id": "5022e1ff-7667-4290-9505-41c8cd9e88b9",
   "metadata": {},
   "outputs": [],
   "source": [
    "import os\n",
    "import yaml\n",
    "import json"
   ]
  },
  {
   "cell_type": "code",
   "execution_count": null,
   "id": "9726a5c8-e209-4255-99a3-bf67c1f7de21",
   "metadata": {},
   "outputs": [],
   "source": []
  },
  {
   "cell_type": "code",
   "execution_count": null,
   "id": "8c5944d2-c88c-4201-97a5-30cdafb40076",
   "metadata": {},
   "outputs": [],
   "source": []
  },
  {
   "cell_type": "code",
   "execution_count": null,
   "id": "dcb6de94-c53e-45da-94de-ffc2a6d62be7",
   "metadata": {},
   "outputs": [],
   "source": []
  }
 ],
 "metadata": {
  "kernelspec": {
   "display_name": "Python 3 (ipykernel)",
   "language": "python",
   "name": "python3"
  },
  "language_info": {
   "codemirror_mode": {
    "name": "ipython",
    "version": 3
   },
   "file_extension": ".py",
   "mimetype": "text/x-python",
   "name": "python",
   "nbconvert_exporter": "python",
   "pygments_lexer": "ipython3",
   "version": "3.10.12"
  }
 },
 "nbformat": 4,
 "nbformat_minor": 5
}
