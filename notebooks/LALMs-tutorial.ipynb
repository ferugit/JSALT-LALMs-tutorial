{
 "cells": [
  {
   "cell_type": "markdown",
   "id": "b438be15-773a-4be0-ad20-839b3b31836a",
   "metadata": {},
   "source": [
    "# JSALT 2025 - Introduction to Large Audio Language Models\n",
    "\n",
    "**Laboratory session: AuGI - Towards audio general intelligence**\n",
    "\n",
    "June 20th, 2025"
   ]
  },
  {
   "cell_type": "markdown",
   "id": "c82a4d29-8945-4aa5-97f7-86ff31fa415e",
   "metadata": {},
   "source": [
    "## Introduction and Objectives\n",
    "\n",
    "1. Setting up the Environment\n",
    "2. Exploring Audio Flamingo 2\n",
    "3. Exploring MMAU\n",
    "4. Preparing AQA data\n",
    "5. Simple training/fine-tuning\n",
    "\n",
    "\n",
    "## Materials"
   ]
  },
  {
   "cell_type": "code",
   "execution_count": null,
   "id": "d7ce8ecb-8403-4fb3-8e0c-f9cf3ed7eef7",
   "metadata": {},
   "outputs": [],
   "source": [
    "# Local\n",
    "# %cd ..\n",
    "\n",
    "# Remote\n",
    "!git clone https://github.com/ferugit/JSALT-LALMs-tutorial.git\n",
    "%cd JSALT-LALMs-tutorial"
   ]
  },
  {
   "cell_type": "code",
   "execution_count": null,
   "id": "3c58aa91-aef6-47ef-902a-af1b1145a68d",
   "metadata": {},
   "outputs": [],
   "source": [
    "!pip install -r requirements.txt"
   ]
  },
  {
   "cell_type": "code",
   "execution_count": null,
   "id": "7dbbeff3-db07-4937-aa39-2132a0129ce8",
   "metadata": {},
   "outputs": [],
   "source": [
    "# Download Qwen2.5-0.5B model\n",
    "!./download_hf_model.sh"
   ]
  },
  {
   "cell_type": "code",
   "execution_count": null,
   "id": "375e7be6-ddf5-48cd-8c96-4f5b4e358965",
   "metadata": {},
   "outputs": [],
   "source": [
    "# Download AF2 model: CLAP encoder, Audio Transformer and XATTN\n",
    "!./download_af2.sh \"YOUR_HF_TOKEN_HERE\""
   ]
  },
  {
   "cell_type": "markdown",
   "id": "cd69490d-b21a-4675-800d-fff69018bfa3",
   "metadata": {},
   "source": [
    "# AF2 Inference"
   ]
  },
  {
   "cell_type": "code",
   "execution_count": null,
   "id": "e1e5af81-9d80-4c65-bad6-9f43a5d3f718",
   "metadata": {},
   "outputs": [],
   "source": [
    "!cat run_af2_single_inference.sh"
   ]
  },
  {
   "cell_type": "code",
   "execution_count": null,
   "id": "161958df-4f41-4eb6-9e20-57652024cdcc",
   "metadata": {},
   "outputs": [],
   "source": [
    "!cat src/audio_flamingo_2/config/inference.yaml"
   ]
  },
  {
   "cell_type": "code",
   "execution_count": null,
   "id": "aa32d9a9-7037-4dbc-98cd-0748edbe75a4",
   "metadata": {},
   "outputs": [],
   "source": [
    "!./run_af2_single_inference.sh"
   ]
  },
  {
   "cell_type": "markdown",
   "id": "bfcf4bc9-01e0-49e9-ab33-304ea7b73bcf",
   "metadata": {
    "jp-MarkdownHeadingCollapsed": true
   },
   "source": [
    "# CLAP: Audio Encoder\n",
    "\n",
    "![CLAP Architecture](../assets/audioclip-arch.png)"
   ]
  },
  {
   "cell_type": "code",
   "execution_count": null,
   "id": "5022e1ff-7667-4290-9505-41c8cd9e88b9",
   "metadata": {},
   "outputs": [],
   "source": [
    "#tokenize = RobertaTokenizer.from_pretrained('roberta-base')"
   ]
  },
  {
   "cell_type": "code",
   "execution_count": null,
   "id": "9726a5c8-e209-4255-99a3-bf67c1f7de21",
   "metadata": {},
   "outputs": [],
   "source": []
  },
  {
   "cell_type": "markdown",
   "id": "ce95e4c8-3bc9-4a19-89fe-6b3521f626d2",
   "metadata": {},
   "source": [
    "# AF2 architecture\n",
    "\n",
    "![AF2 Architecture](../assets/af2_arch.png)"
   ]
  },
  {
   "cell_type": "code",
   "execution_count": null,
   "id": "dcb6de94-c53e-45da-94de-ffc2a6d62be7",
   "metadata": {},
   "outputs": [],
   "source": []
  }
 ],
 "metadata": {
  "kernelspec": {
   "display_name": "Python 3 (ipykernel)",
   "language": "python",
   "name": "python3"
  },
  "language_info": {
   "codemirror_mode": {
    "name": "ipython",
    "version": 3
   },
   "file_extension": ".py",
   "mimetype": "text/x-python",
   "name": "python",
   "nbconvert_exporter": "python",
   "pygments_lexer": "ipython3",
   "version": "3.10.12"
  }
 },
 "nbformat": 4,
 "nbformat_minor": 5
}
